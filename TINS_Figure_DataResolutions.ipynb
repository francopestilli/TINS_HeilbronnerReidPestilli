{
 "cells": [
  {
   "cell_type": "markdown",
   "id": "b904b1bf",
   "metadata": {},
   "source": [
    "# Plot the most recent neuroscience data resolutions\n",
    "\n",
    "Franco Pestilli, The University of Texas 2025\n",
    "\n",
    "Plotting data resolution in space-time and the relative size of their data."
   ]
  },
  {
   "cell_type": "code",
   "execution_count": 1,
   "id": "990eee02",
   "metadata": {},
   "outputs": [
    {
     "name": "stderr",
     "output_type": "stream",
     "text": [
      "The PostScript backend does not support transparency; partially transparent artists will be rendered opaque.\n"
     ]
    },
    {
     "data": {
      "image/png": "[encoded data removed]",
      "text/plain": [
       "<Figure size 432x432 with 2 Axes>"
      ]
     },
     "metadata": {
      "needs_background": "light"
     },
     "output_type": "display_data"
    }
   ],
   "source": [
    "import numpy as np\n",
    "import matplotlib.pyplot as plt\n",
    "from matplotlib.patches import Rectangle\n",
    "\n",
    "# Create a square figure and axis\n",
    "fig, ax1 = plt.subplots(figsize=(6, 6))  # Square aspect ratio\n",
    "\n",
    "# X-axis: Data resolution (log scale) from 0.1 microns to cm\n",
    "x_ticks = [1e-4, 1e-3, 1e-2, 1e-1, 1, 10]  # 0.1 microns to cm\n",
    "ax1.set_xscale(\"log\")  # Log scale for resolution\n",
    "ax1.set_xticks(x_ticks)  # Set tick positions\n",
    "ax1.set_xticklabels([\"0.1 μm\", \"1 μm\", \"10 μm\", \"100 μm\", \"1 mm\", \"1 cm\"])  # Custom tick labels\n",
    "ax1.tick_params(axis='x', direction='out')  # Ticks outside\n",
    "\n",
    "# Left Y-axis: Data acquisition time (log scale)\n",
    "y1_ticks = [1, 60, 3600, 86400, 2.628e6, 3.154e7, 10*3.154e7]  # 30 sec to ~1 year in seconds\n",
    "y1_labels = [\"1 sec\", \"1 min\", \"1 hr\", \"1 day\", \"1 month\", \"1 year\", \"10 years\"]\n",
    "ax1.set_yscale(\"log\")  # Log scale for time\n",
    "ax1.set_yticks(y1_ticks)  # Set tick positions\n",
    "ax1.set_yticklabels(y1_labels)  # Custom tick labels\n",
    "ax1.set_ylabel(\"Data Acquisition Time\")\n",
    "ax1.tick_params(axis='y', direction='out')  # Ticks outside\n",
    "\n",
    "# Right Y-axis: Data size (log scale) in MB\n",
    "ax2 = ax1.twinx()  # Create a second Y-axis\n",
    "y2_ticks = [1e6, 1e9, 1e12, 1e15, 1e18, 5*1e18]  # KB to EB\n",
    "y2_labels = [\"1 MB\", \"1 GB\", \"1 TB\", \"1 PB\", \"1 EB\", \"5 EB\"]\n",
    "ax2.set_yscale(\"log\")  # Log scale for data size\n",
    "ax2.set_yticks(y2_ticks)  # Set tick positions\n",
    "ax2.set_yticklabels(y2_labels)  # Custom tick labels\n",
    "ax2.set_ylabel(\"Data Size\")\n",
    "ax2.tick_params(axis='y', direction='out')  # Ticks outside\n",
    "ax2.set_ylim(10*1e3, 5*1e18)  # 50 MB to 2 EB\n",
    "\n",
    "# Labels and Title\n",
    "ax1.set_xlabel(\"Data Resolution (Microns)\")\n",
    "plt.title(\"Neuroscience Data Dimensions\")\n",
    "\n",
    "# Set equal aspect ratio for a square plot\n",
    "ax1.set_box_aspect(1.0)\n",
    "\n",
    "# Define a simple color palette without seaborn\n",
    "colors = [\"red\", \"green\", \"blue\", \"purple\", \"orange\", \"gray\"]\n",
    "\n",
    "# Define six different rectangular regions using explicit bounds\n",
    "rectangles = [\n",
    "    (1e-4, 1e-3, 4e6, 8e7, colors[0]),\n",
    "    (1e-3, 1e-2, 4e5, 8e6, colors[1]),\n",
    "    (1e-2, 1e-1, 4e4, 8e5, colors[2]),\n",
    "    (1e-1, 1,    4e3, 8e4, colors[3]),\n",
    "    (1, 10,      4e2, 8e3, colors[4]),\n",
    "    (1e-4, 1e-3, 0.1, 60, colors[5])\n",
    "]\n",
    "\n",
    "for (x_min, x_max, y_min, y_max, color) in rectangles:\n",
    "    width = x_max - x_min\n",
    "    height = y_max - y_min\n",
    "    rect = Rectangle((x_min, y_min), width, height, color=color, alpha=0.3)\n",
    "    ax1.add_patch(rect)\n",
    "\n",
    "# Save the figure as a vector graphic (EPS format)\n",
    "plt.savefig(\"density_histogram_plot.eps\", format=\"eps\")\n",
    "\n",
    "# Show plot\n",
    "plt.show()"
   ]
  },
  {
   "cell_type": "code",
   "execution_count": null,
   "id": "b1b1be29",
   "metadata": {},
   "outputs": [],
   "source": []
  }
 ],
 "metadata": {
  "kernelspec": {
   "display_name": "Python 3 (ipykernel)",
   "language": "python",
   "name": "python3"
  },
  "language_info": {
   "codemirror_mode": {
    "name": "ipython",
    "version": 3
   },
   "file_extension": ".py",
   "mimetype": "text/x-python",
   "name": "python",
   "nbconvert_exporter": "python",
   "pygments_lexer": "ipython3",
   "version": "3.9.7"
  }
 },
 "nbformat": 4,
 "nbformat_minor": 5
}
